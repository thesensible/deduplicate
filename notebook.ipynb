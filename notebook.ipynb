{
 "cells": [
  {
   "cell_type": "code",
   "execution_count": 1,
   "id": "48802b7f-4b94-404f-96f5-463b5bf16dce",
   "metadata": {},
   "outputs": [],
   "source": [
    "import findspark\n",
    "import phonenumbers\n",
    "from splink import Splink\n",
    "from splink.profile import column_value_frequencies_chart\n",
    "import altair as alt\n",
    "alt.renderers.enable('mimetype')\n",
    "findspark.init()\n",
    "from pyspark.sql import SparkSession\n",
    "from pyspark.sql.functions import col, concat, coalesce, lit, udf, when, format_number\n",
    "from pyspark.sql.types import StringType, DoubleType, StructType, StructField\n",
    "from uuid import uuid4"
   ]
  },
  {
   "cell_type": "code",
   "execution_count": 2,
   "id": "ca1134f3-726f-4e8e-8d3f-7f98129244e8",
   "metadata": {},
   "outputs": [],
   "source": [
    "spark = SparkSession.builder.getOrCreate()"
   ]
  },
  {
   "cell_type": "markdown",
   "id": "4b7a7789-2d3b-43e1-8005-f50547022c81",
   "metadata": {},
   "source": [
    "# Define functions"
   ]
  },
  {
   "cell_type": "code",
   "execution_count": 3,
   "id": "eae838e7-ddfd-4a4b-8206-40d4e475bbed",
   "metadata": {},
   "outputs": [],
   "source": [
    "def translate_state():\n",
    "    \"\"\"\n",
    "    Helper function which converts U.S. state codes into state names.\n",
    "    \"\"\"\n",
    "    # https://gist.github.com/rogerallen/1583593\n",
    "    us_state_to_abbrev = {\n",
    "        \"Alabama\": \"AL\",\n",
    "        \"Alaska\": \"AK\",\n",
    "        \"Arizona\": \"AZ\",\n",
    "        \"Arkansas\": \"AR\",\n",
    "        \"California\": \"CA\",\n",
    "        \"Colorado\": \"CO\",\n",
    "        \"Connecticut\": \"CT\",\n",
    "        \"Delaware\": \"DE\",\n",
    "        \"Florida\": \"FL\",\n",
    "        \"Georgia\": \"GA\",\n",
    "        \"Hawaii\": \"HI\",\n",
    "        \"Idaho\": \"ID\",\n",
    "        \"Illinois\": \"IL\",\n",
    "        \"Indiana\": \"IN\",\n",
    "        \"Iowa\": \"IA\",\n",
    "        \"Kansas\": \"KS\",\n",
    "        \"Kentucky\": \"KY\",\n",
    "        \"Louisiana\": \"LA\",\n",
    "        \"Maine\": \"ME\",\n",
    "        \"Maryland\": \"MD\",\n",
    "        \"Massachusetts\": \"MA\",\n",
    "        \"Michigan\": \"MI\",\n",
    "        \"Minnesota\": \"MN\",\n",
    "        \"Mississippi\": \"MS\",\n",
    "        \"Missouri\": \"MO\",\n",
    "        \"Montana\": \"MT\",\n",
    "        \"Nebraska\": \"NE\",\n",
    "        \"Nevada\": \"NV\",\n",
    "        \"New Hampshire\": \"NH\",\n",
    "        \"New Jersey\": \"NJ\",\n",
    "        \"New Mexico\": \"NM\",\n",
    "        \"New York\": \"NY\",\n",
    "        \"North Carolina\": \"NC\",\n",
    "        \"North Dakota\": \"ND\",\n",
    "        \"Ohio\": \"OH\",\n",
    "        \"Oklahoma\": \"OK\",\n",
    "        \"Oregon\": \"OR\",\n",
    "        \"Pennsylvania\": \"PA\",\n",
    "        \"Rhode Island\": \"RI\",\n",
    "        \"South Carolina\": \"SC\",\n",
    "        \"South Dakota\": \"SD\",\n",
    "        \"Tennessee\": \"TN\",\n",
    "        \"Texas\": \"TX\",\n",
    "        \"Utah\": \"UT\",\n",
    "        \"Vermont\": \"VT\",\n",
    "        \"Virginia\": \"VA\",\n",
    "        \"Washington\": \"WA\",\n",
    "        \"West Virginia\": \"WV\",\n",
    "        \"Wisconsin\": \"WI\",\n",
    "        \"Wyoming\": \"WY\",\n",
    "        \"District of Columbia\": \"DC\",\n",
    "        \"American Samoa\": \"AS\",\n",
    "        \"Guam\": \"GU\",\n",
    "        \"Northern Mariana Islands\": \"MP\",\n",
    "        \"Puerto Rico\": \"PR\",\n",
    "        \"United States Minor Outlying Islands\": \"UM\",\n",
    "        \"U.S. Virgin Islands\": \"VI\",\n",
    "    }\n",
    "    \n",
    "    us_abbrev_to_state = dict([(abbrev.lower(), state.lower()) for state, abbrev in us_state_to_abbrev.items()])\n",
    "    \n",
    "    def _translate(col):\n",
    "        return us_abbrev_to_state.get(col, col)\n",
    "    \n",
    "    return udf(_translate, StringType())"
   ]
  },
  {
   "cell_type": "code",
   "execution_count": 4,
   "id": "0f2af97c-c190-47ec-8e06-3506c0023373",
   "metadata": {},
   "outputs": [],
   "source": [
    "def translate_phone(region='US'):\n",
    "    \"\"\"\n",
    "    Clean the 'phone' column of the DataFrame by converting it to its national number\n",
    "    \"\"\"\n",
    "    def _translate(col):\n",
    "        try:\n",
    "            return phonenumbers.parse(col, region).national_number\n",
    "        except Exception:\n",
    "            return None\n",
    "    \n",
    "    return udf(_translate, StringType())"
   ]
  },
  {
   "cell_type": "code",
   "execution_count": 5,
   "id": "e513858f-3467-4390-83dc-a82351ba857e",
   "metadata": {},
   "outputs": [],
   "source": [
    "generate_uuid = udf(lambda: str(uuid4()))"
   ]
  },
  {
   "cell_type": "markdown",
   "id": "443e71eb-88a3-414d-91b3-5aaba2997a05",
   "metadata": {},
   "source": [
    "# Load the raw data"
   ]
  },
  {
   "cell_type": "code",
   "execution_count": 6,
   "id": "2b8e279c-9f88-480c-885d-4c7857e7a031",
   "metadata": {},
   "outputs": [
    {
     "name": "stdout",
     "output_type": "stream",
     "text": [
      "+--------------------+------------+-----------+-----------+----+--------------+--------------------+-------+-------------+--------------+-----+-------------------+------------+\n",
      "|                  id|  first_name|middle_name|  last_name| dob|         phone|               email|address|         city|         state|  zip|       time_created|time_deleted|\n",
      "+--------------------+------------+-----------+-----------+----+--------------+--------------------+-------+-------------+--------------+-----+-------------------+------------+\n",
      "|00f46a02-1e18-403...|    richelle|         i.|     reczko|null|   213-9258287|richelle_reczko@y...|   null|  los angeles|            ca|90004|2019-12-09 19:50:24|        null|\n",
      "|0067c2ca-1abd-4e0...|   stephanie|     garcia|  gutierrez|null|          null|stephgarcia5598@g...|   null|         null|          null|95670|2019-12-18 06:44:44|        null|\n",
      "|007c5479-49f0-4a3...|     eduardo|       null|      plaza|null|  831-225-3298|eduardo_plaza94@y...|   null|         null|          null| null|2019-12-12 21:05:49|        null|\n",
      "|01f43997-136a-4a9...|    srithong|       null|       vang|null|  651-307-4843|thongvang5@gmail.com|   null|         null|          null|55106|2019-12-06 09:24:37|        null|\n",
      "|005c8e30-50f7-40d...|    muhammad|       null|    naukhez|null| 1571 340 8082|  iamsbn11@gmail.com|   null|         null|          null| null|2019-12-04 16:40:09|        null|\n",
      "|024d5372-6668-47e...|      walter|       null|  vilcarino|null|      492 1998|  walech92@gmail.com|   null|         null|          null| null|2019-12-31 20:05:00|        null|\n",
      "|0121e0f7-fe57-4b5...|     johavan|       null| cassonover|null|          null|cassonoverj@gmail...|   null|   north york|         ca-on|m9m 2|2019-12-04 18:34:32|        null|\n",
      "|00fb5584-e5ab-4e6...|        alex|       null|    casares|null|1-801-900-0525|consulting.alex@o...|   null|         null|            ut| null|2019-12-09 20:09:24|        null|\n",
      "|01b45a2c-ea04-45d...|       mason|       null|   bradford|null|  864 202 1745|masonbradford@gma...|   null|       belton|south carolina| null|2019-12-07 16:44:51|        null|\n",
      "|02c31dd0-b05d-4ab...|     michael|       null|     hummer|null|      789 7096|michaelhummer1@gm...|   null|         null|          null| null|2019-12-13 22:05:17|        null|\n",
      "|0051deac-57db-4f1...|emily-nicole|       null|    mendoza|null|  520-392-1175|sakanakaruma@hotm...|   null|       tucson|            az|85706|2019-12-20 17:45:47|        null|\n",
      "|02a13ba6-553a-4f4...|      isamar|       null|    alvarez|null|    4846130206|isaalvarez0517@gm...|   null|     brooklyn|      new york|11207|2019-12-20 05:44:40|        null|\n",
      "|00af5060-7654-4df...|      philip|       null|dunar-gibbs|null|  850 377 0513|philipgibbs8@gmai...|   null|         erie|          null| null|2019-12-12 16:33:53|        null|\n",
      "|019c41e8-4002-445...|     michael|       null|   donnelly|null|          null|michael.bart.donn...|   null|         null|          null| null|2019-12-28 20:04:48|        null|\n",
      "|0151118b-28c4-425...|      donald|       null|         jr|null|          null| dcseitz2@icloud.com|   null|         null|          null| null|2019-12-08 13:24:34|        null|\n",
      "|0027bfb4-c8d3-44b...|     mohamed|       null|      adams|null|  615-775-8083|moe.adams9093@gma...|   null|         null|          null| null|2019-12-04 19:18:33|        null|\n",
      "|01ee0a6d-2a82-497...|    prentice|         l.|   barcliff|null|          null|prenticebarcliff2...|   null|       boston|            ma|02108|2019-12-04 15:20:40|        null|\n",
      "|013fb7d0-00a8-42d...|      joseph|       null|   marcinek|null|  916-719-6529|pepe071260@gmail.com|   null|   sacramento|    california|95814|2019-12-09 22:28:43|        null|\n",
      "|0100b320-ed2e-428...|        luis|       null|   espinoza|null|  520-304-7321|luisespin.520@gma...|   null|    newcastle|          utah|84756|2019-12-20 05:24:46|        null|\n",
      "|009fbf26-380c-4fa...|    isabella|       null|  limosnero|null|(805) 722-0314|ilivingstone220@g...|   null|santa barbara|    california|93101|2019-12-19 01:24:59|        null|\n",
      "+--------------------+------------+-----------+-----------+----+--------------+--------------------+-------+-------------+--------------+-----+-------------------+------------+\n",
      "only showing top 20 rows\n",
      "\n"
     ]
    }
   ],
   "source": [
    "df = spark.read.format(\"jdbc\") \\\n",
    ".option(\"url\", \"jdbc:postgresql://localhost:5432/crm\") \\\n",
    ".option(\"user\", \"postgres\") \\\n",
    ".option(\"password\", \"my-secret-pw\") \\\n",
    ".option(\"driver\", \"org.postgresql.Driver\") \\\n",
    ".option(\"dbtable\", \"candidates\") \\\n",
    ".load()\n",
    "df.show()"
   ]
  },
  {
   "cell_type": "markdown",
   "id": "3d595693-8f6d-4a32-a1e4-3a4256cd1fcd",
   "metadata": {},
   "source": [
    "# Clean the data"
   ]
  },
  {
   "cell_type": "code",
   "execution_count": 7,
   "id": "1476c954-0bde-4898-9e5b-0428a0d8fe03",
   "metadata": {},
   "outputs": [
    {
     "name": "stdout",
     "output_type": "stream",
     "text": [
      "+--------------------+------------+-----------+-----------+----+----------+--------------------+-------+-------------+--------------+-----+-------------------+------------+\n",
      "|           unique_id|  first_name|middle_name|  last_name| dob|     phone|               email|address|         city|         state|  zip|       time_created|time_deleted|\n",
      "+--------------------+------------+-----------+-----------+----+----------+--------------------+-------+-------------+--------------+-----+-------------------+------------+\n",
      "|00f46a02-1e18-403...|    richelle|         i.|     reczko|null|2139258287|richelle_reczko@y...|   null|  los angeles|    california|90004|2019-12-09 19:50:24|        null|\n",
      "|0067c2ca-1abd-4e0...|   stephanie|     garcia|  gutierrez|null|      null|stephgarcia5598@g...|   null|         null|          null|95670|2019-12-18 06:44:44|        null|\n",
      "|007c5479-49f0-4a3...|     eduardo|       null|      plaza|null|8312253298|eduardo_plaza94@y...|   null|         null|          null| null|2019-12-12 21:05:49|        null|\n",
      "|01f43997-136a-4a9...|    srithong|       null|       vang|null|6513074843|thongvang5@gmail.com|   null|         null|          null|55106|2019-12-06 09:24:37|        null|\n",
      "|005c8e30-50f7-40d...|    muhammad|       null|    naukhez|null|5713408082|  iamsbn11@gmail.com|   null|         null|          null| null|2019-12-04 16:40:09|        null|\n",
      "|024d5372-6668-47e...|      walter|       null|  vilcarino|null|   4921998|  walech92@gmail.com|   null|         null|          null| null|2019-12-31 20:05:00|        null|\n",
      "|0121e0f7-fe57-4b5...|     johavan|       null| cassonover|null|      null|cassonoverj@gmail...|   null|   north york|         ca-on|m9m 2|2019-12-04 18:34:32|        null|\n",
      "|00fb5584-e5ab-4e6...|        alex|       null|    casares|null|8019000525|consulting.alex@o...|   null|         null|          utah| null|2019-12-09 20:09:24|        null|\n",
      "|01b45a2c-ea04-45d...|       mason|       null|   bradford|null|8642021745|masonbradford@gma...|   null|       belton|south carolina| null|2019-12-07 16:44:51|        null|\n",
      "|02c31dd0-b05d-4ab...|     michael|       null|     hummer|null|   7897096|michaelhummer1@gm...|   null|         null|          null| null|2019-12-13 22:05:17|        null|\n",
      "|0051deac-57db-4f1...|emily-nicole|       null|    mendoza|null|5203921175|sakanakaruma@hotm...|   null|       tucson|       arizona|85706|2019-12-20 17:45:47|        null|\n",
      "|02a13ba6-553a-4f4...|      isamar|       null|    alvarez|null|4846130206|isaalvarez0517@gm...|   null|     brooklyn|      new york|11207|2019-12-20 05:44:40|        null|\n",
      "|00af5060-7654-4df...|      philip|       null|dunar-gibbs|null|8503770513|philipgibbs8@gmai...|   null|         erie|          null| null|2019-12-12 16:33:53|        null|\n",
      "|019c41e8-4002-445...|     michael|       null|   donnelly|null|      null|michael.bart.donn...|   null|         null|          null| null|2019-12-28 20:04:48|        null|\n",
      "|0151118b-28c4-425...|      donald|       null|         jr|null|      null| dcseitz2@icloud.com|   null|         null|          null| null|2019-12-08 13:24:34|        null|\n",
      "|0027bfb4-c8d3-44b...|     mohamed|       null|      adams|null|6157758083|moe.adams9093@gma...|   null|         null|          null| null|2019-12-04 19:18:33|        null|\n",
      "|01ee0a6d-2a82-497...|    prentice|         l.|   barcliff|null|      null|prenticebarcliff2...|   null|       boston| massachusetts|02108|2019-12-04 15:20:40|        null|\n",
      "|013fb7d0-00a8-42d...|      joseph|       null|   marcinek|null|9167196529|pepe071260@gmail.com|   null|   sacramento|    california|95814|2019-12-09 22:28:43|        null|\n",
      "|0100b320-ed2e-428...|        luis|       null|   espinoza|null|5203047321|luisespin.520@gma...|   null|    newcastle|          utah|84756|2019-12-20 05:24:46|        null|\n",
      "|009fbf26-380c-4fa...|    isabella|       null|  limosnero|null|8057220314|ilivingstone220@g...|   null|santa barbara|    california|93101|2019-12-19 01:24:59|        null|\n",
      "+--------------------+------------+-----------+-----------+----+----------+--------------------+-------+-------------+--------------+-----+-------------------+------------+\n",
      "only showing top 20 rows\n",
      "\n"
     ]
    }
   ],
   "source": [
    "df = df.withColumn(\"state\", translate_state()(\"state\")) \\\n",
    "    .withColumn(\"phone\", translate_phone()(\"phone\")) \\\n",
    "    .withColumnRenamed(\"id\", \"unique_id\") \\\n",
    "    .filter(col(\"first_name\").isNotNull()) \\\n",
    "    .filter(col(\"time_deleted\").isNull())\n",
    "df.show()"
   ]
  },
  {
   "cell_type": "markdown",
   "id": "5c40cbaf-d4d4-4687-b0e3-848a46360bb4",
   "metadata": {},
   "source": [
    "# Define comparison rules"
   ]
  },
  {
   "cell_type": "code",
   "execution_count": 8,
   "id": "3570672f-67b5-4b7f-91cc-3d888071ece3",
   "metadata": {},
   "outputs": [],
   "source": [
    "settings = {\n",
    "    \"link_type\": \"dedupe_only\",\n",
    "    \"blocking_rules\": [\n",
    "        \"l.state = r.state\"\n",
    "    ],\n",
    "    \"comparison_columns\": [\n",
    "        {\n",
    "            \"col_name\": \"first_name\",\n",
    "            \"num_levels\": 2,\n",
    "        },\n",
    "        {\n",
    "            \"col_name\": \"middle_name\",\n",
    "            \"num_levels\": 2,\n",
    "        },\n",
    "        {\n",
    "            \"col_name\": \"last_name\",\n",
    "            \"num_levels\": 2,\n",
    "        },\n",
    "        {\n",
    "            \"col_name\": \"dob\",\n",
    "            \"num_levels\": 2,\n",
    "        },\n",
    "#         {\n",
    "#             \"col_name\": \"phone\",\n",
    "#             \"num_levels\": 2\n",
    "#         },\n",
    "        {\n",
    "            \"col_name\": \"city\",\n",
    "            \"num_levels\": 2,\n",
    "        },\n",
    "        {\n",
    "            \"col_name\": \"email\",\n",
    "            \"num_levels\": 2\n",
    "        },\n",
    "        {\n",
    "            \"col_name\": \"address\",\n",
    "            \"num_levels\": 2\n",
    "        },\n",
    "    ],\n",
    "    \"additional_columns_to_retain\": [\n",
    "        \"time_created\",\n",
    "    ]\n",
    "}"
   ]
  },
  {
   "cell_type": "markdown",
   "id": "1f89a51d-a78c-40b3-8f1f-ce05a2ac2c4a",
   "metadata": {},
   "source": [
    "# Run pair-wise comparisons"
   ]
  },
  {
   "cell_type": "code",
   "execution_count": 9,
   "id": "20500928-8c3b-4580-98de-e5510518df54",
   "metadata": {},
   "outputs": [
    {
     "name": "stderr",
     "output_type": "stream",
     "text": [
      "/Users/fasih/opt/anaconda3/lib/python3.8/site-packages/splink/case_statements.py:20: UserWarning: \n",
      "\n",
      "Custom string comparison functions such as jaro_winkler_sim are not available in Spark\n",
      "Or you did not pass 'spark' (the SparkSession) into 'Model' \n",
      "You can import these functions using the scala-udf-similarity-0.0.9.jar provided with Splink.\n",
      "You will need to add it by correctly configuring your spark config\n",
      "For example in Spark 2.4.5\n",
      "\n",
      "from pyspark.sql import SparkSession, types\n",
      "from pyspark.context import SparkConf, SparkContext\n",
      "conf.set('spark.driver.extraClassPath', '/Users/fasih/opt/anaconda3/lib/python3.8/site-packages/splink/jars/scala-udf-similarity-0.0.9.jar') # Not needed in spark 3\n",
      "conf.set('spark.jars', '/Users/fasih/opt/anaconda3/lib/python3.8/site-packages/splink/jars/scala-udf-similarity-0.0.9.jar')\n",
      "spark.udf.registerJavaFunction('jaro_winkler_sim','uk.gov.moj.dash.linkage.JaroWinklerSimilarity',types.DoubleType())\n",
      "sc = SparkContext.getOrCreate(conf=conf)\n",
      "spark = SparkSession(sc)\n",
      "\n",
      "Alternatively, for Jaro Winkler, you can register a less efficient Python implementation using\n",
      "\n",
      "from splink.jar_fallback import jw_sim_py\n",
      "spark.udf.register('jaro_winkler_sim', jw_sim_py)\n",
      "\n",
      "  warnings.warn(\n"
     ]
    }
   ],
   "source": [
    "linker = Splink(settings=settings, spark=spark, df_or_dfs=df.limit(15000))\n",
    "df_e = linker.get_scored_comparisons()"
   ]
  },
  {
   "cell_type": "code",
   "execution_count": 10,
   "id": "4162f87b-a6ff-4b1b-991d-858cd5b594d0",
   "metadata": {},
   "outputs": [
    {
     "name": "stdout",
     "output_type": "stream",
     "text": [
      "root\n",
      " |-- match_weight: double (nullable = true)\n",
      " |-- match_probability: double (nullable = true)\n",
      " |-- unique_id_l: string (nullable = true)\n",
      " |-- unique_id_r: string (nullable = true)\n",
      " |-- first_name_l: string (nullable = true)\n",
      " |-- first_name_r: string (nullable = true)\n",
      " |-- gamma_first_name: integer (nullable = false)\n",
      " |-- middle_name_l: string (nullable = true)\n",
      " |-- middle_name_r: string (nullable = true)\n",
      " |-- gamma_middle_name: integer (nullable = false)\n",
      " |-- last_name_l: string (nullable = true)\n",
      " |-- last_name_r: string (nullable = true)\n",
      " |-- gamma_last_name: integer (nullable = false)\n",
      " |-- dob_l: date (nullable = true)\n",
      " |-- dob_r: date (nullable = true)\n",
      " |-- gamma_dob: integer (nullable = false)\n",
      " |-- city_l: string (nullable = true)\n",
      " |-- city_r: string (nullable = true)\n",
      " |-- gamma_city: integer (nullable = false)\n",
      " |-- email_l: string (nullable = true)\n",
      " |-- email_r: string (nullable = true)\n",
      " |-- gamma_email: integer (nullable = false)\n",
      " |-- address_l: string (nullable = true)\n",
      " |-- address_r: string (nullable = true)\n",
      " |-- gamma_address: integer (nullable = false)\n",
      " |-- time_created_l: timestamp (nullable = true)\n",
      " |-- time_created_r: timestamp (nullable = true)\n",
      "\n"
     ]
    }
   ],
   "source": [
    "df_e.printSchema()"
   ]
  },
  {
   "cell_type": "markdown",
   "id": "cd8c487e-e8dc-4965-970d-ebe3b9b4bd6d",
   "metadata": {},
   "source": [
    "# View results"
   ]
  },
  {
   "cell_type": "code",
   "execution_count": 11,
   "id": "b95c2f84-6e42-4604-ad15-2b38eee1b551",
   "metadata": {},
   "outputs": [
    {
     "name": "stdout",
     "output_type": "stream",
     "text": [
      "+-------------------------+------------------------+----------------+----------------+----------------------------------+-----------------------------------+-------+\n",
      "|candidate_name_l         |candidate_name_r        |city_l          |city_r          |email_l                           |email_r                            |p_match|\n",
      "+-------------------------+------------------------+----------------+----------------+----------------------------------+-----------------------------------+-------+\n",
      "|maria arreola sanchez    |samatha nunez arreola   |tipton          |tipton          |mariarreolaaz@gmail.com           |tikaanzgg@gmail.com                |1.000  |\n",
      "|jakyra johnson           |jakyra johnson          |warner robins   |warner robins   |kayscojo@gmail.com                |kayscojo@gmail.com                 |1.000  |\n",
      "|prem ananda              |prem ananda             |san diego       |san diego       |premonition1982@gmail.com         |premonition1982@gmail.com          |1.000  |\n",
      "|christopher rogers       |christopher rogers      |roebuck         |roebuck         |chrisrogers9945@gmail.com         |chrisrogers9945@gmail.com          |1.000  |\n",
      "|richard cruz             |richard cruz            |wilmington      |wilmington      |1981rcruz@gmail.com               |1981rcruz@gmail.com                |1.000  |\n",
      "|taylor wolfinger         |taylor wolfinger        |huntington beach|huntington beach|taylorwolfinger@gmail.com         |taylorwolfinger@gmail.com          |1.000  |\n",
      "|april guzman             |april guzman            |san bernardino  |san bernardino  |angelnavarro0616@gmail.com        |angelnavarro0616@gmail.com         |1.000  |\n",
      "|matthew ozechowski       |matthew ozechowski      |albuquerque     |albuquerque     |timoze@comcast.net                |timoze@comcast.net                 |1.000  |\n",
      "|alisia cleveland         |alisia cleveland        |decatur         |decatur         |alisiacleveland@gmail.com         |alisiacleveland@gmail.com          |1.000  |\n",
      "|james towner             |james towner            |lancaster       |lancaster       |crumb1985@gmail.com               |crumb1985@gmail.com                |1.000  |\n",
      "|tony bennett             |tony bennett            |philadelphia    |philadelphia    |theothertonybennettrocks@gmail.com|theothertonybennettrocks@gmail.com |1.000  |\n",
      "|joseph stahli            |joseph stahli           |ridgway         |ridgway         |jdstahli@windstream.net           |jdstahli@windstream.net            |1.000  |\n",
      "|shawn lambert            |shawn lambert           |red lion        |red lion        |shawnlamber12@yahoo.com           |shawnlamber12@yahoo.com            |1.000  |\n",
      "|dean dairein             |dean dairein            |dubuque         |dubuque         |deantddean@gmail.com              |deantddean@gmail.com               |1.000  |\n",
      "|bobby clemenz            |bobby clemenz           |leesville       |leesville       |bobbyclemenz0@gmail.com           |bobbyclemenz0@gmail.com            |1.000  |\n",
      "|osvaldo cruz             |osvaldo cruz            |hawthorne       |hawthorne       |04ocruz@gmail.com                 |04ocruz@gmail.com                  |1.000  |\n",
      "|aliyah stith-sweeney     |aliyah stith-sweeney    |belleville      |belleville      |aliyahstith@gmail.com             |aliyahstith@gmail.com              |1.000  |\n",
      "|geovanny vazquez         |geovanny vazquez        |paramount       |paramount       |vaxquezg040@gmail.com             |vaxquezg040@gmail.com              |1.000  |\n",
      "|martina solis            |martina solis           |dinuba          |dinuba          |tynnasolis67@gmail.com            |tynnasolis67@gmail.com             |1.000  |\n",
      "|michael nathaniel        |michael nathaniel       |caln            |caln            |nathanielm99@gmail.com            |nathanielm99@gmail.com             |1.000  |\n",
      "|martina solis            |martina solis           |dinuba          |dinuba          |tynnasolis67@gmail.com            |tynnasolis67@gmail.com             |1.000  |\n",
      "|mecia davis              |mecia davis             |arcadia lakes   |arcadia lakes   |davismecia30@gmail.com            |davismecia30@gmail.com             |1.000  |\n",
      "|martina solis            |martina solis           |dinuba          |dinuba          |tynnasolis67@gmail.com            |tynnasolis67@gmail.com             |1.000  |\n",
      "|tony bennett             |tony bennett            |philadelphia    |philadelphia    |theothertonybennettrocks@gmail.com|theothertonybennettrocks@gmail.com |1.000  |\n",
      "|dominique ramirez        |dominique ramirez       |san bernardino  |san bernardino  |dominoz101@yahoo.com              |dominoz101@yahoo.com               |1.000  |\n",
      "|jonathan wells           |jonathan wells          |cary            |cary            |onefanunc@aol.com                 |onefanunc@aol.com                  |1.000  |\n",
      "|todd ricker              |todd ricker             |broomfield      |broomfield      |toddmricker@gmail.com             |toddmricker@gmail.com              |1.000  |\n",
      "|anthony buksha           |anthony buksha          |charleston      |charleston      |buksha12@yahoo.com                |buksha12@yahoo.com                 |1.000  |\n",
      "|nosipho fakude           |nosipho fakude          |mlazi           |mlazi           |nosiphondabile@gmail.com          |nosiphondabile@gmail.com           |1.000  |\n",
      "|tony bennett             |tony bennett            |philadelphia    |philadelphia    |theothertonybennettrocks@gmail.com|theothertonybennettrocks@gmail.com |1.000  |\n",
      "|josefina seiuli          |josefina seiuli         |san leandro     |san leandro     |jseiuli@live.com                  |jseiuli@live.com                   |1.000  |\n",
      "|brisa nunez              |brisa nunez             |cudahy          |cudahy          |brisanunez09@gmail.com            |brisanunez09@gmail.com             |1.000  |\n",
      "|christopher flores ramos |thyanis santiago cruz   |lebanon         |lebanon         |christhyan1011@gmail.com          |fifel.nicole14@gmail.com           |1.000  |\n",
      "|kaila matus              |kaila matus             |null            |null            |kaylaaugust2@gmail.com            |kaylaaugust2@gmail.com             |1.000  |\n",
      "|terentyev yurevich       |terentyev yurevich      |null            |null            |terentyev1a@gmail.com             |terentyev1a@gmail.com              |1.000  |\n",
      "|alejandra esteban-lorenzo|alejandra esteban       |zion            |zion            |metrosheridan473@gmail.com        |metrosheridan473@gmail.com         |1.000  |\n",
      "|briane gilmore           |jennifer spears         |minneapolis     |minneapolis     |none@none.com                     |none@none.com                      |0.998  |\n",
      "|juan barajas             |rene gonzalez-gomez     |perris          |perris          |unkown@unknown.com                |unkown@unknown.com                 |0.998  |\n",
      "|danusha pathirannehelage |danusha pathirannehelage|simi valley     |simi valley     |danusharda@hotmail.com            |danushacv@gmail.com                |0.986  |\n",
      "|jason williams           |jason williams          |stockton        |stockton        |marshmallowmia@yahoo.com          |emhendrix1972@gmail.com            |0.986  |\n",
      "|taylor wolfinger         |taylor wolfinger        |huntington beach|huntington beach|taylorwolfinger@gmail.com         |taylorwolfinger52@gmail.com        |0.986  |\n",
      "|timothy gilmore          |timothy gilmore         |chicago         |chicago         |gilmoret88@yahoo.com              |gilmoret886_emh@indeedemail.com    |0.986  |\n",
      "|taylor wolfinger         |taylor wolfinger        |huntington beach|huntington beach|taylorwolfinger@gmail.com         |taylorwolfinger52@gmail.com        |0.986  |\n",
      "|ken ebarle               |ken ebarle              |sacramento      |sacramento      |mymail.ken@icloud.com             |ebarleken@icloud.com               |0.986  |\n",
      "|tho le                   |tho le                  |stanton         |stanton         |lephattho@gmail.com               |lephattho@yahoo.com                |0.986  |\n",
      "|patrick hall             |patrick hall            |guerneville     |rohnert park    |amf1399@yahoo.com                 |null                               |0.985  |\n",
      "|beatriz sarabia          |jeovany mendez          |rancho cucamonga|coachella       |unkown@unknown.com                |unkown@unknown.com                 |0.923  |\n",
      "|juan barajas             |beatriz sarabia         |perris          |rancho cucamonga|unkown@unknown.com                |unkown@unknown.com                 |0.923  |\n",
      "|paul ligon               |juan barajas            |eastvale        |perris          |unkown@unknown.com                |unkown@unknown.com                 |0.923  |\n",
      "|juan barajas             |jeovany mendez          |perris          |coachella       |unkown@unknown.com                |unkown@unknown.com                 |0.923  |\n",
      "|paul ligon               |beatriz sarabia         |eastvale        |rancho cucamonga|unkown@unknown.com                |unkown@unknown.com                 |0.923  |\n",
      "|paul ligon               |rene gonzalez-gomez     |eastvale        |perris          |unkown@unknown.com                |unkown@unknown.com                 |0.923  |\n",
      "|rene gonzalez-gomez      |beatriz sarabia         |perris          |rancho cucamonga|unkown@unknown.com                |unkown@unknown.com                 |0.923  |\n",
      "|paul ligon               |jeovany mendez          |eastvale        |coachella       |unkown@unknown.com                |unkown@unknown.com                 |0.923  |\n",
      "|rene gonzalez-gomez      |jeovany mendez          |perris          |coachella       |unkown@unknown.com                |unkown@unknown.com                 |0.923  |\n",
      "|brandy morales           |luz dominguez           |visalia         |rialto          |none@none.com                     |none@none.com                      |0.920  |\n",
      "|luz dominguez            |jerome vu               |rialto          |westminster     |none@none.com                     |none@none.com                      |0.920  |\n",
      "|erica perez              |jerome vu               |riverside       |westminster     |none@none.com                     |none@none.com                      |0.920  |\n",
      "|erica perez              |luz dominguez           |riverside       |rialto          |none@none.com                     |none@none.com                      |0.920  |\n",
      "|wei yang                 |brandy morales          |fontana         |visalia         |none@none.com                     |none@none.com                      |0.920  |\n",
      "|erica perez              |brandy morales          |riverside       |visalia         |none@none.com                     |none@none.com                      |0.920  |\n",
      "|wei yang                 |jerome vu               |fontana         |westminster     |none@none.com                     |none@none.com                      |0.920  |\n",
      "|wei yang                 |luz dominguez           |fontana         |rialto          |none@none.com                     |none@none.com                      |0.920  |\n",
      "|wei yang                 |erica perez             |fontana         |riverside       |none@none.com                     |none@none.com                      |0.920  |\n",
      "|brandy morales           |jerome vu               |visalia         |westminster     |none@none.com                     |none@none.com                      |0.920  |\n",
      "|jasmin lara              |kimberly lara           |long beach      |long beach      |jasminruby20@yahoo.com            |kimberlylara200@gmail.com          |0.862  |\n",
      "|anthony gomez            |anthony gomez           |null            |roseville       |anthony.k.gomez@gmail.com         |gomezboyz916@gmail.com             |0.780  |\n",
      "|anthony sanchez          |anthony sanchez         |elk grove       |bellflower      |anthonysan192020@gmail.com        |anthonysanchezzz1990@gmail.com     |0.663  |\n",
      "|brandy hunt              |brandy hunt             |apex            |lumberton       |bhunt2k14@gmail.com               |queenbrandy1986@gmail.com          |0.663  |\n",
      "|david torres             |david torres            |campbell        |bakersfield     |dtorres@vpoutsourcing.com         |dtorres@rmhcsc.org                 |0.663  |\n",
      "|jose garcia              |jose garcia             |elk grove       |san francisco   |jggarcia.1990@gmail.com           |jg5315077@gmail.com                |0.663  |\n",
      "|joshua young             |joshua young            |nashville       |memphis         |jwizzle88@icloud.com              |qij5xk6xad@privaterelay.appleid.com|0.663  |\n",
      "|richard hernandez        |richard hernandez       |los angeles     |selma           |cityofangels110@gmail.com         |richardhernandezsgt@gmail.com      |0.663  |\n",
      "|juan castillo            |juan castillo           |porterville     |san\\tdiego      |jc110630@gmail.com                |adantrucking@hotmail.com           |0.663  |\n",
      "|jesus lopez              |jesus lopez             |new york        |brooklyn        |jag1094@nyu.edu                   |jesuslopez06021969@gmail.com       |0.663  |\n",
      "|jose perez               |jose perez              |san leandro     |fresno          |joseperez.user@gmail.com          |santosperez850@icloud.com          |0.663  |\n",
      "|james smith              |james smith             |piney point     |austin          |jsmood83@gmail.com                |smithpjames1998@gmail.com          |0.663  |\n",
      "|kevin johnson            |kevin johnson           |chicago heights |chicago         |kjcubie7@gmail.com                |kevinjhnsn25@gmail.com             |0.663  |\n",
      "|christopher smith        |christopher smith       |san marcos      |stockton        |christopher.smith3328@gmail.com   |itischris19@yahoo.com              |0.663  |\n",
      "|khoa nguyen              |khoa nguyen             |katy            |garland         |nguyenk85@yahoo.com               |khoanguyentexas67@gmail.com        |0.654  |\n",
      "|john hughes              |john hughes             |dallas          |forney          |johnhugh2004@yahoo.com            |jdh0318@yahoo.com                  |0.561  |\n",
      "|jose ramirez             |jose ramirez            |compton         |sacramento      |jose.ramirez92797@gmail.com       |stf95833@gmail.com                 |0.561  |\n",
      "|leslie alvarez           |leslie alvarez          |ontario         |menlo park      |alvarezleslie00@yahoo.com         |alvarez.valencia1650@gmail.com     |0.561  |\n",
      "|khoa nguyen              |khoa nguyen             |sacramento      |elk grove       |khoasjob@gmail.com                |ankwa1188@gmail.com                |0.505  |\n",
      "+-------------------------+------------------------+----------------+----------------+----------------------------------+-----------------------------------+-------+\n",
      "\n"
     ]
    }
   ],
   "source": [
    "df_e.filter(\n",
    "    col(\"match_probability\") >= 0.50\n",
    ").orderBy(\n",
    "    col(\"match_probability\").desc()\n",
    ").select(\n",
    "    concat(col(\"first_name_l\"), lit(' '), coalesce(col(\"last_name_l\"), lit(''))).alias('candidate_name_l'),\n",
    "    concat(col(\"first_name_r\"), lit(' '), coalesce(col(\"last_name_r\"), lit(''))).alias('candidate_name_r'),\n",
    "    col(\"city_l\"),\n",
    "    col(\"city_r\"),\n",
    "    col(\"email_l\"),\n",
    "    col(\"email_r\"),\n",
    "    format_number(col(\"match_probability\"), 3).alias(\"p_match\")\n",
    ").show(150, truncate=False)"
   ]
  },
  {
   "cell_type": "markdown",
   "id": "ac1b1ca6-ba34-456a-9cb2-bd403b47f078",
   "metadata": {},
   "source": [
    "# Write the results to the database"
   ]
  },
  {
   "cell_type": "code",
   "execution_count": 12,
   "id": "d8cbb7ce-2135-44a7-9aac-cfa5b3e1f61a",
   "metadata": {},
   "outputs": [],
   "source": [
    "df_e.filter(\n",
    "    col(\"match_probability\") >= 0.60\n",
    ").select(\n",
    "    col(\"unique_id_l\").alias(\"candidate_id_l\"),\n",
    "    col(\"unique_id_r\").alias(\"candidate_id_r\"),\n",
    "    when(col(\"match_probability\") >= 0.99, when(col(\"time_created_l\") <= col(\"time_created_r\"), col(\"unique_id_l\")).otherwise(col(\"unique_id_r\"))).alias(\"duplicate_id\"),\n",
    "    format_number(col(\"match_probability\"), 3).cast(DoubleType()).alias(\"match_probability\"),\n",
    "    when(col(\"match_probability\") >= 0.99, \"duplicate\").alias(\"action\")\n",
    ").withColumn(\"id\", generate_uuid()) \\\n",
    ".write.format(\"jdbc\") \\\n",
    ".option(\"url\", \"jdbc:postgresql://localhost:5432/crm\") \\\n",
    ".option(\"user\", \"postgres\") \\\n",
    ".option(\"password\", \"my-secret-pw\") \\\n",
    ".option(\"driver\", \"org.postgresql.Driver\") \\\n",
    ".option(\"dbtable\", \"match_results\") \\\n",
    ".mode(\"overwrite\") \\\n",
    ".save()"
   ]
  },
  {
   "cell_type": "code",
   "execution_count": null,
   "id": "464905c3-d70e-4f4c-a768-c4d010b5f573",
   "metadata": {},
   "outputs": [],
   "source": []
  }
 ],
 "metadata": {
  "kernelspec": {
   "display_name": "Python 3",
   "language": "python",
   "name": "python3"
  },
  "language_info": {
   "codemirror_mode": {
    "name": "ipython",
    "version": 3
   },
   "file_extension": ".py",
   "mimetype": "text/x-python",
   "name": "python",
   "nbconvert_exporter": "python",
   "pygments_lexer": "ipython3",
   "version": "3.8.8"
  }
 },
 "nbformat": 4,
 "nbformat_minor": 5
}
